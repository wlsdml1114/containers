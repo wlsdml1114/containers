{
 "cells": [
  {
   "cell_type": "markdown",
   "id": "b01332d1-1384-4405-8af6-335c768da6e2",
   "metadata": {},
   "source": [
    "## Dreambooth v2 Runpod Notebook From https://github.com/TheLastBen/fast-stable-diffusion, if you encounter any issues, feel free to discuss them."
   ]
  },
  {
   "cell_type": "markdown",
   "id": "8f82bb3b-76de-4e2c-9251-df918f8f2cbe",
   "metadata": {},
   "source": [
    "# Dependencies"
   ]
  },
  {
   "cell_type": "code",
   "execution_count": null,
   "id": "3d144e06-1f7a-467b-9cf1-452bf773f0ab",
   "metadata": {
    "tags": []
   },
   "outputs": [],
   "source": [
    "# Install the dependencies\n",
    "\n",
    "force_reinstall= False\n",
    "\n",
    "# Set to true only if you want to install the dependencies again.\n",
    "\n",
    "#--------------------\n",
    "with open('/dev/null', 'w') as devnull:import requests, os, time, importlib;open('/workspace/mainrunpodDreamboothv2.py', 'wb').write(requests.get('https://huggingface.co/datasets/TheLastBen/RNPD/raw/main/Scripts/mainrunpodDreamboothv2.py').content);os.chdir('/workspace');time.sleep(3);import mainrunpodDreamboothv2;importlib.reload(mainrunpodDreamboothv2);from mainrunpodDreamboothv2 import *;restored=False;Deps(force_reinstall)"
   ]
  },
  {
   "cell_type": "markdown",
   "id": "461b7686-e4aa-4fa8-ab6f-5a6acbf4c601",
   "metadata": {},
   "source": [
    "# Download the model"
   ]
  },
  {
   "cell_type": "code",
   "execution_count": null,
   "id": "2f705bd1-35c9-49bd-84fd-03a1348cbe83",
   "metadata": {},
   "outputs": [],
   "source": [
    "Model_Version = \"768\"\n",
    "\n",
    "# Choices are :  \"512\", \"768\"\n",
    "\n",
    "#-----------------------------------------------------------------------------------------------------------------------------------\n",
    "\n",
    "Custom_Model_Version = \"768\"\n",
    "\n",
    "# Choices are :  \"512\", \"768\"\n",
    "\n",
    "Path_to_HuggingFace= \"\"\n",
    "\n",
    "# Load and finetune a model from Hugging Face, use the format \"profile/model\" like : runwayml/stable-diffusion-v1-5.\n",
    "\n",
    "CKPT_Path = \"\"\n",
    "\n",
    "# Load a CKPT model from the storage.\n",
    "\n",
    "CKPT_Link = \"\"\n",
    "\n",
    "# A CKPT direct link, huggingface CKPT link or a shared CKPT from gdrive.\n",
    "\n",
    "\n",
    "#-------------\n",
    "MODEL_NAMEv2=dlv2(Path_to_HuggingFace, CKPT_Path, CKPT_Link, Model_Version, Custom_Model_Version)"
   ]
  },
  {
   "cell_type": "markdown",
   "id": "8e22327b-e0c3-424c-82e1-fb7f8a815c0b",
   "metadata": {},
   "source": [
    "# Create/Load a Session"
   ]
  },
  {
   "cell_type": "code",
   "execution_count": null,
   "id": "ac69c221-205a-40d2-b42e-6c8d515a43cc",
   "metadata": {},
   "outputs": [],
   "source": [
    "Session_Name = \"Example-Session\"\n",
    "\n",
    "# Enter the session name, it if it exists, it will load it, otherwise it'll create an new session.\n",
    "\n",
    "Session_Link_optional = \"\"\n",
    "\n",
    "# Import a session from another gdrive, the shared gdrive link must point to the specific session's folder that contains the trained CKPT, remove any intermediary CKPT if any.\n",
    "\n",
    "Model_Version = \"768\"\n",
    "\n",
    "# Ignore this if you're not loading a previous session that contains a trained model, choices are :  \"512\", \"768\"\n",
    "\n",
    "\n",
    "#-----------------\n",
    "[PT, WORKSPACE, Session_Name, INSTANCE_NAME, OUTPUT_DIR, SESSION_DIR, CONCEPT_DIR, INSTANCE_DIR, CAPTIONS_DIR, MDLPTH, MODEL_NAMEv2, resumev2]=sessv2(Session_Name, Session_Link_optional, Model_Version, MODEL_NAMEv2 if 'MODEL_NAMEv2' in locals() else \"\")"
   ]
  },
  {
   "cell_type": "markdown",
   "id": "eea6975c-c56e-4391-89ec-e71ab23f0789",
   "metadata": {},
   "source": [
    "# Instance Images"
   ]
  },
  {
   "cell_type": "code",
   "execution_count": null,
   "id": "90213561-6117-4a2e-ab48-4988e2d450df",
   "metadata": {},
   "outputs": [],
   "source": [
    "Remove_existing_instance_images= True\n",
    "\n",
    "# Set to False to keep the existing instance images if any.\n",
    "\n",
    "\n",
    "IMAGES_FOLDER_OPTIONAL=\"\"\n",
    "\n",
    "# If you prefer to specify directly the folder of the pictures instead of uploading, this will add the pictures to the existing (if any) instance images. Leave EMPTY to upload.\n",
    "\n",
    "\n",
    "Smart_crop_images= True\n",
    "\n",
    "# Automatically crop your input images.\n",
    "\n",
    "\n",
    "Crop_size = 768\n",
    "\n",
    "# Choices: \"512\", \"576\", \"640\", \"704\", \"768\", \"832\", \"896\", \"960\", \"1024\"\n",
    "\n",
    "# Check out this example for naming : https://i.imgur.com/d2lD3rz.jpeg\n",
    "\n",
    "\n",
    "#-----------------\n",
    "uplder(Remove_existing_instance_images, Smart_crop_images, Crop_size, IMAGES_FOLDER_OPTIONAL, INSTANCE_DIR, CAPTIONS_DIR, False)"
   ]
  },
  {
   "cell_type": "markdown",
   "id": "982ea644-8902-4bfa-af9b-191d8e079044",
   "metadata": {},
   "source": [
    "# Manual Captioning"
   ]
  },
  {
   "cell_type": "code",
   "execution_count": null,
   "id": "c9df5834-e278-4bc9-8161-c1a5bad5f6da",
   "metadata": {},
   "outputs": [],
   "source": [
    "# Open a tool to manually caption the instance images.\n",
    "\n",
    "#-----------------\n",
    "caption(CAPTIONS_DIR, INSTANCE_DIR)"
   ]
  },
  {
   "cell_type": "markdown",
   "id": "3fcaafc9-410d-4021-86fa-8d2ca7e167a7",
   "metadata": {},
   "source": [
    "# Concept Images"
   ]
  },
  {
   "cell_type": "code",
   "execution_count": null,
   "id": "0a445627-7a6b-4887-83a7-848b7f79ba7f",
   "metadata": {},
   "outputs": [],
   "source": [
    "Remove_existing_concept_images= True\n",
    "\n",
    "# Set to False to keep the existing concept images if any.\n",
    "\n",
    "IMAGES_FOLDER_OPTIONAL=\"\"\n",
    "\n",
    "# If you prefer to specify directly the folder of the pictures instead of uploading, this will add the pictures to the existing (if any) concept images. Leave EMPTY to upload.\n",
    "\n",
    "\n",
    "#-----------------\n",
    "uplder(Remove_existing_concept_images, True, 512, IMAGES_FOLDER_OPTIONAL, CONCEPT_DIR, CAPTIONS_DIR, True)"
   ]
  },
  {
   "cell_type": "markdown",
   "id": "5d239e77-f7fd-404b-8006-081f15326412",
   "metadata": {},
   "source": [
    "# Dreambooth"
   ]
  },
  {
   "cell_type": "code",
   "execution_count": null,
   "id": "04619971-dd99-4970-9c63-fb267ef1f0c2",
   "metadata": {},
   "outputs": [],
   "source": [
    "Resume_Training = False\n",
    "\n",
    "# If you're not satisfied with the result, Set to True, run again the cell and it will continue training the current model.\n",
    "\n",
    "\n",
    "UNet_Training_Steps=1500\n",
    "\n",
    "UNet_Learning_Rate = \"2e-6\"\n",
    "\n",
    "# If you use 10 images, use 500 steps, if you're not satisfied with the result, resume training for another 200 steps, and so on ...\n",
    "\n",
    "\n",
    "Text_Encoder_Training_Steps=300\n",
    "\n",
    "Text_Encoder_Learning_Rate= \"1e-6\"\n",
    "\n",
    "# 350-600 steps is enough for a small dataset, keep this number small to avoid overfitting, set to 0 to disable, set it to 0 before resuming training if it is already trained.\n",
    "\n",
    "\n",
    "Text_Encoder_Concept_Training_Steps=0\n",
    "\n",
    "# Suitable for training a style/concept as it acts as regularization, with a minimum of 300 steps, 1 step/image is enough to train the concept(s), set to 0 to disable, set both the settings above to 0 to fintune only the text_encoder on the concept, set it to 0 before resuming training if it is already trained.\n",
    "\n",
    "\n",
    "External_Captions= False\n",
    "\n",
    "# Get the captions from a text file for each instance image.\n",
    "\n",
    "\n",
    "Style_Training=False\n",
    "\n",
    "# Further reduce overfitting, suitable when training a style or a general theme, don't check the box at the beginning, check it after training for at least 800 steps. (Has no effect when using External Captions)\n",
    "\n",
    "\n",
    "Resolution = 768\n",
    "\n",
    "# Choices : \"512\", \"576\", \"640\", \"704\", \"768\", \"832\", \"896\", \"960\", \"1024\"\n",
    "# Higher resolution = Higher quality, make sure the instance images are cropped to this selected size (or larger).\n",
    "\n",
    "#---------------------------------------------------------------\n",
    "\n",
    "Save_Checkpoint_Every_n_Steps = False\n",
    "\n",
    "Save_Checkpoint_Every=500\n",
    "\n",
    "# Minimum 200 steps between each save.\n",
    "\n",
    "\n",
    "Start_saving_from_the_step=500\n",
    "\n",
    "# Start saving intermediary checkpoints from this step.\n",
    "\n",
    "\n",
    "#-----------------\n",
    "resumev2=dbtrainv2(Resume_Training, UNet_Training_Steps, UNet_Learning_Rate, Text_Encoder_Training_Steps, Text_Encoder_Concept_Training_Steps, Text_Encoder_Learning_Rate, Style_Training, Resolution, MODEL_NAMEv2, SESSION_DIR, INSTANCE_DIR, CONCEPT_DIR, CAPTIONS_DIR, External_Captions, INSTANCE_NAME, Session_Name, OUTPUT_DIR, PT, resumev2, Save_Checkpoint_Every_n_Steps, Start_saving_from_the_step, Save_Checkpoint_Every)"
   ]
  },
  {
   "cell_type": "markdown",
   "id": "e2751798-508e-47ad-8e54-95188bdab051",
   "metadata": {},
   "source": [
    "# Test the Trained Model"
   ]
  },
  {
   "cell_type": "code",
   "execution_count": null,
   "id": "9f522609-96cc-4525-bae9-3abdb13c3992",
   "metadata": {},
   "outputs": [],
   "source": [
    "Previous_Session_Name=\"\"\n",
    "\n",
    "# Leave empty if you want to use the current trained model.\n",
    "\n",
    "\n",
    "Custom_Path = \"\"\n",
    "\n",
    "# Input the full path to a desired model.\n",
    "\n",
    "\n",
    "User = \"\"\n",
    "\n",
    "Password= \"\"\n",
    "\n",
    "# Add credentials to your Gradio interface (optional).\n",
    "\n",
    "\n",
    "Huggingface_token_optional=\"\"\n",
    "\n",
    "# Restore your backed-up SD folder by entering your huggingface token, leave it empty to start fresh or continue with the existing sd folder (if any).\n",
    "\n",
    "#-----------------\n",
    "configf, restored=test(Custom_Path, Previous_Session_Name, Session_Name, User, Password, Huggingface_token_optional, restored) if 'Session_Name' in locals() else test(Custom_Path, Previous_Session_Name, \"\", User, Password, Huggingface_token_optional, restored)\n",
    "!python /workspace/sd/stable-diffusion-webui/webui.py $configf"
   ]
  },
  {
   "cell_type": "markdown",
   "id": "ae2aeb7a-03cc-449d-97ca-1778c02d8a7b",
   "metadata": {},
   "source": [
    "# Upload The Trained Model to Hugging Face"
   ]
  },
  {
   "cell_type": "code",
   "execution_count": null,
   "id": "4ba25c96-c3b9-4bdd-ac97-9eda5ed91e4c",
   "metadata": {},
   "outputs": [],
   "source": [
    "#Save it to your personal profile or collaborate to the public [library of concepts](https://huggingface.co/sd-dreambooth-library)\n",
    "\n",
    "Name_of_your_concept = \"\"\n",
    "\n",
    "# Leave empty if you want to name your concept the same as the current session.\n",
    "\n",
    "\n",
    "hf_token_write = \"\"\n",
    "\n",
    "# Create a write access token here : https://huggingface.co/settings/tokens, go to \"New token\" -> Role : Write, a regular read token won't work here.\n",
    "\n",
    "\n",
    "#---------------------------------\n",
    "hf(Name_of_your_concept, hf_token_write, INSTANCE_NAME, OUTPUT_DIR, Session_Name, MDLPTH)"
   ]
  },
  {
   "cell_type": "markdown",
   "id": "1b7a4af5-075b-49cb-9418-eef4c93cfc4a",
   "metadata": {},
   "source": [
    "# Free up space"
   ]
  },
  {
   "cell_type": "code",
   "execution_count": null,
   "id": "7b61d337-fd4c-48a6-b19e-781e0bca4d0d",
   "metadata": {},
   "outputs": [],
   "source": [
    "# Display a list of sessions from which you can remove any session you don't need anymore\n",
    "\n",
    "#-------------------------\n",
    "clean()"
   ]
  }
 ],
 "metadata": {
  "kernelspec": {
   "display_name": "Python 3 (ipykernel)",
   "language": "python",
   "name": "python3"
  },
  "language_info": {
   "codemirror_mode": {
    "name": "ipython",
    "version": 3
   },
   "file_extension": ".py",
   "mimetype": "text/x-python",
   "name": "python",
   "nbconvert_exporter": "python",
   "pygments_lexer": "ipython3",
   "version": "3.10.10"
  }
 },
 "nbformat": 4,
 "nbformat_minor": 5
}
