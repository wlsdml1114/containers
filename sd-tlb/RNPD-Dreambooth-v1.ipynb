{
 "cells": [
  {
   "cell_type": "markdown",
   "id": "4533d548-e2ca-4824-b94c-e690ad1742b3",
   "metadata": {},
   "source": [
    "## Dreambooth v1.5 Runpod Notebook From https://github.com/TheLastBen/fast-stable-diffusion, if you encounter any issues, feel free to discuss them."
   ]
  },
  {
   "cell_type": "markdown",
   "id": "7e0a43a0-7472-4a04-a817-a7d7bf001ad8",
   "metadata": {},
   "source": [
    "# Dependencies"
   ]
  },
  {
   "cell_type": "code",
   "execution_count": null,
   "id": "9a00b695-22e4-4f3a-904b-4268f948dd4d",
   "metadata": {
    "tags": []
   },
   "outputs": [],
   "source": [
    "# Install the dependencies\n",
    "\n",
    "force_reinstall= False\n",
    "\n",
    "# Set to true only if you want to install the dependencies again.\n",
    "\n",
    "#--------------------\n",
    "with open('/dev/null', 'w') as devnull:import requests, os, time, importlib;open('/workspace/mainrunpodDreamboothv1.py', 'wb').write(requests.get('https://huggingface.co/datasets/TheLastBen/RNPD/raw/main/Scripts/mainrunpodDreamboothv1.py').content);os.chdir('/workspace');time.sleep(3);import mainrunpodDreamboothv1;importlib.reload(mainrunpodDreamboothv1);from mainrunpodDreamboothv1 import *;restored=False;Deps(force_reinstall)"
   ]
  },
  {
   "cell_type": "markdown",
   "id": "1aef6c77-c40e-47e5-8510-fe7255a909d3",
   "metadata": {},
   "source": [
    "# Download the model"
   ]
  },
  {
   "cell_type": "code",
   "execution_count": null,
   "id": "6b5521db-8a29-4b89-9752-b4b43a1e19ad",
   "metadata": {},
   "outputs": [],
   "source": [
    "#Leave everything EMPTY to use the original model\n",
    "\n",
    "Path_to_HuggingFace= \"\"\n",
    "\n",
    "# Load and finetune a model from Hugging Face, use the format \"profile/model\" like : runwayml/stable-diffusion-v1-5\n",
    "\n",
    "\n",
    "CKPT_Path = \"\"\n",
    "\n",
    "# Load a CKPT model from the storage.\n",
    "\n",
    "\n",
    "CKPT_Link = \"\"\n",
    "\n",
    "# A CKPT direct link, huggingface CKPT link or a shared CKPT from gdrive.\n",
    "\n",
    "\n",
    "#----------------\n",
    "MODEL_NAME=dl(Path_to_HuggingFace, CKPT_Path, CKPT_Link)"
   ]
  },
  {
   "cell_type": "markdown",
   "id": "c103fb5c-ec65-4773-a59b-3ad7e75caa43",
   "metadata": {},
   "source": [
    "# Create/Load a Session"
   ]
  },
  {
   "cell_type": "code",
   "execution_count": null,
   "id": "d1953470-5d6a-4fc2-93db-0327a3c8e0a4",
   "metadata": {},
   "outputs": [],
   "source": [
    "Session_Name = \"Example-Session\"\n",
    "\n",
    "# Enter the session name, it if it exists, it will load it, otherwise it'll create an new session.\n",
    "\n",
    "\n",
    "Session_Link_optional = \"\"\n",
    "\n",
    "# Import a session from gdrive, the shared gdrive link must point to the specific session's folder that contains the trained CKPT, remove any intermediary CKPT if any.\n",
    "\n",
    "\n",
    "#-----------------\n",
    "[PT, WORKSPACE, Session_Name, INSTANCE_NAME, OUTPUT_DIR, SESSION_DIR, CONCEPT_DIR, INSTANCE_DIR, CAPTIONS_DIR, MDLPTH, MODEL_NAME, resume]=sess(Session_Name, Session_Link_optional, MODEL_NAME if 'MODEL_NAME' in locals() else \"\")"
   ]
  },
  {
   "cell_type": "markdown",
   "id": "62597da8-f957-4b48-a2c4-05471d1c46a5",
   "metadata": {},
   "source": [
    "# Instance Images"
   ]
  },
  {
   "cell_type": "code",
   "execution_count": null,
   "id": "96f310cb-6e42-4d6f-87a7-5bb869d48c8e",
   "metadata": {},
   "outputs": [],
   "source": [
    "Remove_existing_instance_images= True\n",
    "\n",
    "# Set to False to keep the existing instance images if any.\n",
    "\n",
    "\n",
    "IMAGES_FOLDER_OPTIONAL=\"\"\n",
    "\n",
    "# If you prefer to specify directly the folder of the pictures instead of uploading, this will add the pictures to the existing (if any) instance images. Leave EMPTY to upload.\n",
    "\n",
    "\n",
    "Smart_crop_images= True\n",
    "\n",
    "# Automatically crop your input images.\n",
    "\n",
    "\n",
    "Crop_size = 512\n",
    "\n",
    "# Choices: \"512\", \"576\", \"640\", \"704\", \"768\", \"832\", \"896\", \"960\", \"1024\"\n",
    "\n",
    "# Check out this example for naming : https://i.imgur.com/d2lD3rz.jpeg\n",
    "\n",
    "\n",
    "#-----------------\n",
    "uplder(Remove_existing_instance_images, Smart_crop_images, Crop_size, IMAGES_FOLDER_OPTIONAL, INSTANCE_DIR, CAPTIONS_DIR, False)"
   ]
  },
  {
   "cell_type": "markdown",
   "id": "4ebc12b9-a6cb-4ce0-a062-6059511b0423",
   "metadata": {},
   "source": [
    "# Manual Captioning"
   ]
  },
  {
   "cell_type": "code",
   "execution_count": null,
   "id": "1b844caf-55bf-4fe4-8c9c-95b60604854d",
   "metadata": {},
   "outputs": [],
   "source": [
    "# Open a tool to manually caption the instance images.\n",
    "\n",
    "#-----------------\n",
    "caption(CAPTIONS_DIR, INSTANCE_DIR)"
   ]
  },
  {
   "cell_type": "markdown",
   "id": "ff06c805-4603-4971-af80-30666e0cd6ef",
   "metadata": {},
   "source": [
    "# Concept Images"
   ]
  },
  {
   "cell_type": "code",
   "execution_count": null,
   "id": "2830252f-411b-436c-a814-c0cfbdd3e3ff",
   "metadata": {},
   "outputs": [],
   "source": [
    "Remove_existing_concept_images= True\n",
    "\n",
    "# Set to False to keep the existing concept images if any.\n",
    "\n",
    "\n",
    "IMAGES_FOLDER_OPTIONAL=\"\"\n",
    "\n",
    "# If you prefer to specify directly the folder of the pictures instead of uploading, this will add the pictures to the existing (if any) concept images. Leave EMPTY to upload.\n",
    "\n",
    "\n",
    "#-----------------\n",
    "uplder(Remove_existing_concept_images, True, 512, IMAGES_FOLDER_OPTIONAL, CONCEPT_DIR, CAPTIONS_DIR, True)"
   ]
  },
  {
   "cell_type": "markdown",
   "id": "9bc7806c-fa55-4f32-8eb9-76bd4b69f6f2",
   "metadata": {},
   "source": [
    "# Dreambooth"
   ]
  },
  {
   "cell_type": "code",
   "execution_count": null,
   "id": "ab759eb7-8ba5-4803-95f3-9f8b58ee317d",
   "metadata": {},
   "outputs": [],
   "source": [
    "Resume_Training = False\n",
    "\n",
    "# If you're not satisfied with the result, Set to True, run again the cell and it will continue training the current model.\n",
    "\n",
    "\n",
    "UNet_Training_Steps=1500\n",
    "\n",
    "UNet_Learning_Rate = \"2e-6\"\n",
    "\n",
    "# If you use 10 images, use 500 steps, if you're not satisfied with the result, resume training for another 200 steps, and so on ...\n",
    "\n",
    "\n",
    "Text_Encoder_Training_Steps=300\n",
    "\n",
    "Text_Encoder_Learning_Rate= \"1e-6\"\n",
    "\n",
    "# 350-600 steps is enough for a small dataset, keep this number small to avoid overfitting, set to 0 to disable, set it to 0 before resuming training if it is already trained.\n",
    "\n",
    "\n",
    "Text_Encoder_Concept_Training_Steps=0\n",
    "\n",
    "# Suitable for training a style/concept as it acts as regularization, with a minimum of 300 steps, 1 step/image is enough to train the concept(s), set to 0 to disable, set both the settings above to 0 to fintune only the text_encoder on the concept, set it to 0 before resuming training if it is already trained.\n",
    "\n",
    "\n",
    "External_Captions= False\n",
    "\n",
    "# Get the captions from a text file for each instance image.\n",
    "\n",
    "\n",
    "Style_Training=False\n",
    "\n",
    "# Further reduce overfitting, suitable when training a style or a general theme, don't check the box at the beginning, check it after training for at least 800 steps. (Has no effect when using External Captions)\n",
    "\n",
    "\n",
    "Resolution = 512\n",
    "\n",
    "# Choices : \"512\", \"576\", \"640\", \"704\", \"768\", \"832\", \"896\", \"960\", \"1024\"\n",
    "# Higher resolution = Higher quality, make sure the instance images are cropped to this selected size (or larger).\n",
    "\n",
    "#---------------------------------------------------------------\n",
    "\n",
    "Save_Checkpoint_Every_n_Steps = False\n",
    "\n",
    "Save_Checkpoint_Every=500\n",
    "\n",
    "# Minimum 200 steps between each save.\n",
    "\n",
    "\n",
    "Start_saving_from_the_step=500\n",
    "\n",
    "# Start saving intermediary checkpoints from this step.\n",
    "\n",
    "\n",
    "#-----------------\n",
    "resume=dbtrain(Resume_Training, UNet_Training_Steps, UNet_Learning_Rate, Text_Encoder_Training_Steps, Text_Encoder_Concept_Training_Steps, Text_Encoder_Learning_Rate, Style_Training, Resolution, MODEL_NAME, SESSION_DIR, INSTANCE_DIR, CONCEPT_DIR, CAPTIONS_DIR, External_Captions,  INSTANCE_NAME, Session_Name, OUTPUT_DIR, PT, resume, Save_Checkpoint_Every_n_Steps, Start_saving_from_the_step, Save_Checkpoint_Every)"
   ]
  },
  {
   "cell_type": "markdown",
   "id": "2f236f25-c256-44c0-8ef9-09d27a93bb92",
   "metadata": {},
   "source": [
    "# Test the Trained Model"
   ]
  },
  {
   "cell_type": "code",
   "execution_count": null,
   "id": "6cba55c7-1d0e-4a68-bd91-3c46625ccb31",
   "metadata": {
    "tags": []
   },
   "outputs": [],
   "source": [
    "Previous_Session_Name=\"\"\n",
    "\n",
    "# Leave empty if you want to use the current trained model.\n",
    "\n",
    "\n",
    "Custom_Path = \"\"\n",
    "\n",
    "# Input the full path to a desired model.\n",
    "\n",
    "\n",
    "User = \"\"\n",
    "\n",
    "Password= \"\"\n",
    "\n",
    "# Add credentials to your Gradio interface (optional).\n",
    "\n",
    "\n",
    "Huggingface_token_optional=\"\"\n",
    "\n",
    "# Restore your backed-up SD folder by entering your huggingface token, leave it empty to start fresh or continue with the existing sd folder (if any).\n",
    "\n",
    "#-----------------\n",
    "configf, restored=test(Custom_Path, Previous_Session_Name, Session_Name, User, Password, Huggingface_token_optional, restored) if 'Session_Name' in locals() else test(Custom_Path, Previous_Session_Name, \"\", User, Password, Huggingface_token_optional, restored)\n",
    "!python /workspace/sd/stable-diffusion-webui/webui.py $configf"
   ]
  },
  {
   "cell_type": "markdown",
   "id": "7018649b-6b1e-45b4-830f-2b921b052498",
   "metadata": {},
   "source": [
    "# Upload The Trained Model to Hugging Face"
   ]
  },
  {
   "cell_type": "code",
   "execution_count": null,
   "id": "d81d7b88-9046-4871-8f0d-6776655f075d",
   "metadata": {},
   "outputs": [],
   "source": [
    "#Save it to your personal profile or collaborate to the public [library of concepts](https://huggingface.co/sd-dreambooth-library)\n",
    "\n",
    "Name_of_your_concept = \"\"\n",
    "\n",
    "# Leave empty if you want to name your concept the same as the current session.\n",
    "\n",
    "\n",
    "hf_token_write = \"\"\n",
    "\n",
    "# Create a write access token here : https://huggingface.co/settings/tokens, go to \"New token\" -> Role : Write, a regular read token won't work here.\n",
    "\n",
    "\n",
    "#---------------------------------\n",
    "hf(Name_of_your_concept, hf_token_write, INSTANCE_NAME, OUTPUT_DIR, Session_Name, MDLPTH)"
   ]
  },
  {
   "cell_type": "markdown",
   "id": "92938a3a-0c6a-478b-b8e6-c93a190d4fd8",
   "metadata": {},
   "source": [
    "# Free up space"
   ]
  },
  {
   "cell_type": "code",
   "execution_count": null,
   "id": "22c8571e-324f-4513-a846-44486862176f",
   "metadata": {},
   "outputs": [],
   "source": [
    "# Display a list of sessions from which you can remove any session you don't need anymore\n",
    "\n",
    "#-------------------------\n",
    "clean()"
   ]
  }
 ],
 "metadata": {
  "kernelspec": {
   "display_name": "Python 3 (ipykernel)",
   "language": "python",
   "name": "python3"
  },
  "language_info": {
   "codemirror_mode": {
    "name": "ipython",
    "version": 3
   },
   "file_extension": ".py",
   "mimetype": "text/x-python",
   "name": "python",
   "nbconvert_exporter": "python",
   "pygments_lexer": "ipython3",
   "version": "3.10.10"
  }
 },
 "nbformat": 4,
 "nbformat_minor": 5
}